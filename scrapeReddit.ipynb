{
  "nbformat": 4,
  "nbformat_minor": 0,
  "metadata": {
    "colab": {
      "provenance": []
    },
    "kernelspec": {
      "name": "python3",
      "display_name": "Python 3"
    },
    "language_info": {
      "name": "python"
    }
  },
  "cells": [
    {
      "cell_type": "code",
      "execution_count": 2,
      "metadata": {
        "colab": {
          "base_uri": "https://localhost:8080/"
        },
        "id": "tlK2ygqFhqLf",
        "outputId": "a3e05120-75bd-4cd7-8add-2315cb9aba71"
      },
      "outputs": [
        {
          "output_type": "stream",
          "name": "stdout",
          "text": [
            "Looking in indexes: https://pypi.org/simple, https://us-python.pkg.dev/colab-wheels/public/simple/\n",
            "Collecting praw\n",
            "  Downloading praw-7.6.0-py3-none-any.whl (188 kB)\n",
            "\u001b[K     |████████████████████████████████| 188 kB 24.5 MB/s \n",
            "\u001b[?25hCollecting websocket-client>=0.54.0\n",
            "  Downloading websocket_client-1.4.1-py3-none-any.whl (55 kB)\n",
            "\u001b[K     |████████████████████████████████| 55 kB 3.8 MB/s \n",
            "\u001b[?25hCollecting prawcore<3,>=2.1\n",
            "  Downloading prawcore-2.3.0-py3-none-any.whl (16 kB)\n",
            "Collecting update-checker>=0.18\n",
            "  Downloading update_checker-0.18.0-py3-none-any.whl (7.0 kB)\n",
            "Requirement already satisfied: requests<3.0,>=2.6.0 in /usr/local/lib/python3.7/dist-packages (from prawcore<3,>=2.1->praw) (2.23.0)\n",
            "Requirement already satisfied: chardet<4,>=3.0.2 in /usr/local/lib/python3.7/dist-packages (from requests<3.0,>=2.6.0->prawcore<3,>=2.1->praw) (3.0.4)\n",
            "Requirement already satisfied: urllib3!=1.25.0,!=1.25.1,<1.26,>=1.21.1 in /usr/local/lib/python3.7/dist-packages (from requests<3.0,>=2.6.0->prawcore<3,>=2.1->praw) (1.24.3)\n",
            "Requirement already satisfied: certifi>=2017.4.17 in /usr/local/lib/python3.7/dist-packages (from requests<3.0,>=2.6.0->prawcore<3,>=2.1->praw) (2022.9.24)\n",
            "Requirement already satisfied: idna<3,>=2.5 in /usr/local/lib/python3.7/dist-packages (from requests<3.0,>=2.6.0->prawcore<3,>=2.1->praw) (2.10)\n",
            "Installing collected packages: websocket-client, update-checker, prawcore, praw\n",
            "Successfully installed praw-7.6.0 prawcore-2.3.0 update-checker-0.18.0 websocket-client-1.4.1\n"
          ]
        }
      ],
      "source": [
        "!pip install  praw"
      ]
    },
    {
      "cell_type": "code",
      "source": [
        "import pandas as pd \n",
        "import praw"
      ],
      "metadata": {
        "id": "N8iBpvaGhvWQ"
      },
      "execution_count": 3,
      "outputs": []
    },
    {
      "cell_type": "markdown",
      "source": [
        "#### All of the required fields below can be generated via: https://www.reddit.com/prefs/apps\n",
        "> tutorial incase needed: \"https://www.geeksforgeeks.org/scraping-reddit-using-python/"
      ],
      "metadata": {
        "id": "M18oeNQ7Ve1K"
      }
    },
    {
      "cell_type": "code",
      "source": [
        "\n",
        "\n",
        "reddit_read_only = praw.Reddit(client_id=\"---\" ,        # your client id\n",
        "                               client_secret=\"---\",      # your client secret\n",
        "                               user_agent=\"---\",  #your reddit user name\n",
        "                               check_for_async= False)  "
      ],
      "metadata": {
        "id": "wYEL1tl0h7Jy"
      },
      "execution_count": 53,
      "outputs": []
    },
    {
      "cell_type": "markdown",
      "source": [
        "#### Flairs is how a subredd distinguishes between its posts, this can make our task easier if some flair coincides with our project. Then we can simply only store data wrt that particular flair\n",
        "\n",
        "#### Let us create a function to check all the flairs available "
      ],
      "metadata": {
        "id": "NQ348_DETZwX"
      }
    },
    {
      "cell_type": "code",
      "source": [
        "def get_unique_flairs(reddit,sub,num_posts):\n",
        "  \n",
        "  \n",
        "  \"\"\"\n",
        "  This function returns the unique flairs availabe\n",
        "  \n",
        "  reddit accepts the instance of praw(read-only in our case)\n",
        "  sub accepts the subreddit we want to use\n",
        "  num_posts stores the number of posts we want to check\n",
        "  \n",
        "  Note: This function can only return unique flairs found in x amount of posts as the function \".flair()\" returns 403 and requires the user to be a mod of the said subreddit\n",
        "  \"\"\"\n",
        "\n",
        "  #Storing the amount of posts we need in \"posts\" \n",
        "  posts=reddit.subreddit(sub).top(limit=num_posts)#We are sorting by top, we can also do it by hot or new\n",
        "\n",
        "\n",
        "  flairs=[] #Empty list to store  the flairs\n",
        "\n",
        "  #going though each of our posts\n",
        "  for post  in posts:\n",
        "    \n",
        "\n",
        "    #storing the flair \n",
        "    post_flair=post.link_flair_text\n",
        "    \n",
        "    #checking if flair is unique, if yes we store it in our list\n",
        "    if post_flair != None:\n",
        "      if post_flair not in flairs:\n",
        "        flairs.append(post_flair)\n",
        "\n",
        "  if len(flairs)!=0: #as some subs do not have flairs we should check if flairs[] is empty\n",
        "    return flairs\n",
        "\n",
        "\n",
        "  else:\n",
        "    print(\"no flairs\")\n",
        "    return 0"
      ],
      "metadata": {
        "id": "oz0YXyqyqCIy"
      },
      "execution_count": 81,
      "outputs": []
    },
    {
      "cell_type": "code",
      "source": [
        "flairs=get_unique_flairs(reddit_read_only,sub=\"MentalHealthUk\",num_posts=100)"
      ],
      "metadata": {
        "id": "tDCbg0m8rLPX"
      },
      "execution_count": 119,
      "outputs": []
    },
    {
      "cell_type": "code",
      "source": [
        "flairs ##Let us check our flairs"
      ],
      "metadata": {
        "colab": {
          "base_uri": "https://localhost:8080/"
        },
        "id": "dp3TOaUqA_LY",
        "outputId": "44b1170f-b1ce-424c-b5fc-731212205fe8"
      },
      "execution_count": 120,
      "outputs": [
        {
          "output_type": "execute_result",
          "data": {
            "text/plain": [
              "['Uplifting',\n",
              " 'Meme',\n",
              " 'Resources',\n",
              " 'Vent',\n",
              " 'Idea/project/petition',\n",
              " 'Other',\n",
              " 'Video',\n",
              " 'Informative',\n",
              " 'News ',\n",
              " 'Discussion',\n",
              " 'News',\n",
              " 'Idea/project/petition/survey',\n",
              " 'I need advice/support',\n",
              " 'Blog post',\n",
              " 'Introduction']"
            ]
          },
          "metadata": {},
          "execution_count": 120
        }
      ]
    },
    {
      "cell_type": "markdown",
      "source": [
        "#### Now let us focus on a function that will return the scraped data in well split labels\n",
        "> Note: This is a basic function, one can add more intricacies say gender,date,flair conditions to get only relevant data"
      ],
      "metadata": {
        "id": "LrLboxxJUBJQ"
      }
    },
    {
      "cell_type": "code",
      "source": [
        "# Let us check what labels do we need right now, this can be modified per user needs\n",
        "\n",
        "labels =[\"ID\", \n",
        "         \"Title\",\n",
        "         \"Flair\",\n",
        "         \"Body\",\n",
        "         \"Upvotes\",\n",
        "         \"Number of comments\",\n",
        "         \"URL\",\n",
        "         \"Time\"]"
      ],
      "metadata": {
        "id": "ZfOAZPSuU0q5"
      },
      "execution_count": 125,
      "outputs": []
    },
    {
      "cell_type": "code",
      "source": [
        "from datetime import datetime\n",
        "\n",
        "def Post_Dataframe(reddit,sub,num_posts):\n",
        "\n",
        "  \"\"\"\n",
        "   This function returns a pandas dataframe that we can export as a csv if we want\n",
        "   reddit accepts the instantialized\n",
        "  \"\"\"\n",
        "  #An empty list to store all our data, we will convert this later into a dataframe\n",
        "  pdf=[]  \n",
        "  \n",
        "  #Storing the posts\n",
        "  posts=reddit.subreddit(sub).hot(limit=num_posts)\n",
        "  \n",
        "  #checking each of our posts\n",
        "  for post in posts:\n",
        "    \n",
        "    #dt is a list where we store each part of the post seperately and later append it into pdf as a row\n",
        "    dt=[]\n",
        "    \n",
        "    #since \".created\" returns a unix time stamp we have to convert it into yyyy-mm-dd hh-mm-ss format using datetime object\n",
        "    ts=int(post.created)\n",
        "    \n",
        "    dt=[\n",
        "        \n",
        "        #storing the id\n",
        "        str(post.id),\n",
        "        #the title\n",
        "        str(post.title),\n",
        "        #flair\n",
        "        str(post.link_flair_text),\n",
        "        #body of the post\n",
        "        str(post.selftext),\n",
        "        #Number of upvotes, note: reddits upvote system is inconsistent to prevent spam bots\n",
        "        post.score,\n",
        "        #number of comments under a post, we can also call the comment tree using \"submission.comments\"\n",
        "        post.num_comments,\n",
        "        \n",
        "        #The url of the post incase we need to do more searching for a particular post\n",
        "        str(post.url),\n",
        "        \n",
        "        #Converting and storing the unix timestamp into a datetime object\n",
        "        datetime.utcfromtimestamp(ts).strftime(\"%Y-%m-%d %H:%M:%S\")\n",
        "       ]\n",
        "\n",
        "    ##adding all the above in our pdf list   \n",
        "    pdf.append(dt)\n",
        "  \n",
        "  #Finally converting pdf into a dataframe so we can export it later\n",
        "  posts_df=pd.DataFrame(pdf,columns=labels)\n",
        "  \n",
        "  return posts_df"
      ],
      "metadata": {
        "id": "hnvQWPtxrawn"
      },
      "execution_count": 122,
      "outputs": []
    },
    {
      "cell_type": "code",
      "source": [
        "\n",
        "df=Post_Dataframe(reddit_read_only,sub=\"MentalHealthUk\",num_posts=15)"
      ],
      "metadata": {
        "id": "vXF0soQLrb-s"
      },
      "execution_count": 126,
      "outputs": []
    },
    {
      "cell_type": "code",
      "source": [
        "df[:10]"
      ],
      "metadata": {
        "colab": {
          "base_uri": "https://localhost:8080/",
          "height": 598
        },
        "id": "GZE0V9WdwmiD",
        "outputId": "bf17fd39-fb7a-4929-b43c-a6e4baf16fe0"
      },
      "execution_count": 127,
      "outputs": [
        {
          "output_type": "execute_result",
          "data": {
            "text/plain": [
              "       ID                                              Title  \\\n",
              "0  bc3jtm                       Mental Health UK master post   \n",
              "1  xpl4mv  iPOF - Improving Peer Online Forums Study (Lan...   \n",
              "2  y7v4aj  The cost of living crisis risks becoming a sui...   \n",
              "3  y7zemu                           Mens Psychology Research   \n",
              "4  y7laa5  Do you ever feel like work and everything that...   \n",
              "5  y77n69  When you spend the day speaking to hundreds of...   \n",
              "6  y7elgv                                    CMHT Experience   \n",
              "7  y7k02v                Trying to unpack a traumatic event.   \n",
              "8  y73ltg  Still burnt out from previous job - bailed on ...   \n",
              "9  y7idcf  How common are psychosis symptoms in \"just\" de...   \n",
              "\n",
              "                     Flair                                               Body  \\\n",
              "0                Resources  Here I will include a master post of UK mental...   \n",
              "1           Research/Study  Hi,\\n\\nMy name is Matt. I am a researcher from...   \n",
              "2  External blog/vlog post                                                      \n",
              "3           Research/Study  Hi guys,\\n\\nI hope you are well.\\n\\nI am a doc...   \n",
              "4                     Vent  I have worked every day since I was 16 and I’v...   \n",
              "5                Uplifting                                                      \n",
              "6    I need advice/support  Hello, friends.\\n\\nI am under a Community Ment...   \n",
              "7    I need advice/support  Hello,\\n\\nFor context, I am 17 but this all ha...   \n",
              "8    I need advice/support  Hi Everyone,\\n\\nI just wanted to get something...   \n",
              "9    I need advice/support  So I recently gained access to my medical hist...   \n",
              "\n",
              "   Upvotes  Number of comments  \\\n",
              "0       11                  25   \n",
              "1        6                   5   \n",
              "2        5                   3   \n",
              "3        2                   1   \n",
              "4       14                   4   \n",
              "5       74                   9   \n",
              "6        5                   7   \n",
              "7        3                   3   \n",
              "8       23                  14   \n",
              "9        3                   7   \n",
              "\n",
              "                                                 URL                 Time  \n",
              "0  https://www.reddit.com/r/MentalHealthUK/commen...  2019-04-11 18:46:07  \n",
              "1  https://www.reddit.com/r/MentalHealthUK/commen...  2022-09-27 16:16:12  \n",
              "2  https://gal-dem.com/cost-of-living-crisis-suic...  2022-10-19 06:36:12  \n",
              "3  https://www.reddit.com/r/MentalHealthUK/commen...  2022-10-19 10:48:04  \n",
              "4  https://www.reddit.com/r/MentalHealthUK/commen...  2022-10-18 22:41:52  \n",
              "5              https://www.reddit.com/gallery/y77n69  2022-10-18 13:51:14  \n",
              "6  https://www.reddit.com/r/MentalHealthUK/commen...  2022-10-18 18:20:18  \n",
              "7  https://www.reddit.com/r/MentalHealthUK/commen...  2022-10-18 21:49:51  \n",
              "8  https://www.reddit.com/r/MentalHealthUK/commen...  2022-10-18 10:46:51  \n",
              "9  https://www.reddit.com/r/MentalHealthUK/commen...  2022-10-18 20:47:03  "
            ],
            "text/html": [
              "\n",
              "  <div id=\"df-df3a4a36-bb9f-41b6-9e2e-5b462bb1a3b0\">\n",
              "    <div class=\"colab-df-container\">\n",
              "      <div>\n",
              "<style scoped>\n",
              "    .dataframe tbody tr th:only-of-type {\n",
              "        vertical-align: middle;\n",
              "    }\n",
              "\n",
              "    .dataframe tbody tr th {\n",
              "        vertical-align: top;\n",
              "    }\n",
              "\n",
              "    .dataframe thead th {\n",
              "        text-align: right;\n",
              "    }\n",
              "</style>\n",
              "<table border=\"1\" class=\"dataframe\">\n",
              "  <thead>\n",
              "    <tr style=\"text-align: right;\">\n",
              "      <th></th>\n",
              "      <th>ID</th>\n",
              "      <th>Title</th>\n",
              "      <th>Flair</th>\n",
              "      <th>Body</th>\n",
              "      <th>Upvotes</th>\n",
              "      <th>Number of comments</th>\n",
              "      <th>URL</th>\n",
              "      <th>Time</th>\n",
              "    </tr>\n",
              "  </thead>\n",
              "  <tbody>\n",
              "    <tr>\n",
              "      <th>0</th>\n",
              "      <td>bc3jtm</td>\n",
              "      <td>Mental Health UK master post</td>\n",
              "      <td>Resources</td>\n",
              "      <td>Here I will include a master post of UK mental...</td>\n",
              "      <td>11</td>\n",
              "      <td>25</td>\n",
              "      <td>https://www.reddit.com/r/MentalHealthUK/commen...</td>\n",
              "      <td>2019-04-11 18:46:07</td>\n",
              "    </tr>\n",
              "    <tr>\n",
              "      <th>1</th>\n",
              "      <td>xpl4mv</td>\n",
              "      <td>iPOF - Improving Peer Online Forums Study (Lan...</td>\n",
              "      <td>Research/Study</td>\n",
              "      <td>Hi,\\n\\nMy name is Matt. I am a researcher from...</td>\n",
              "      <td>6</td>\n",
              "      <td>5</td>\n",
              "      <td>https://www.reddit.com/r/MentalHealthUK/commen...</td>\n",
              "      <td>2022-09-27 16:16:12</td>\n",
              "    </tr>\n",
              "    <tr>\n",
              "      <th>2</th>\n",
              "      <td>y7v4aj</td>\n",
              "      <td>The cost of living crisis risks becoming a sui...</td>\n",
              "      <td>External blog/vlog post</td>\n",
              "      <td></td>\n",
              "      <td>5</td>\n",
              "      <td>3</td>\n",
              "      <td>https://gal-dem.com/cost-of-living-crisis-suic...</td>\n",
              "      <td>2022-10-19 06:36:12</td>\n",
              "    </tr>\n",
              "    <tr>\n",
              "      <th>3</th>\n",
              "      <td>y7zemu</td>\n",
              "      <td>Mens Psychology Research</td>\n",
              "      <td>Research/Study</td>\n",
              "      <td>Hi guys,\\n\\nI hope you are well.\\n\\nI am a doc...</td>\n",
              "      <td>2</td>\n",
              "      <td>1</td>\n",
              "      <td>https://www.reddit.com/r/MentalHealthUK/commen...</td>\n",
              "      <td>2022-10-19 10:48:04</td>\n",
              "    </tr>\n",
              "    <tr>\n",
              "      <th>4</th>\n",
              "      <td>y7laa5</td>\n",
              "      <td>Do you ever feel like work and everything that...</td>\n",
              "      <td>Vent</td>\n",
              "      <td>I have worked every day since I was 16 and I’v...</td>\n",
              "      <td>14</td>\n",
              "      <td>4</td>\n",
              "      <td>https://www.reddit.com/r/MentalHealthUK/commen...</td>\n",
              "      <td>2022-10-18 22:41:52</td>\n",
              "    </tr>\n",
              "    <tr>\n",
              "      <th>5</th>\n",
              "      <td>y77n69</td>\n",
              "      <td>When you spend the day speaking to hundreds of...</td>\n",
              "      <td>Uplifting</td>\n",
              "      <td></td>\n",
              "      <td>74</td>\n",
              "      <td>9</td>\n",
              "      <td>https://www.reddit.com/gallery/y77n69</td>\n",
              "      <td>2022-10-18 13:51:14</td>\n",
              "    </tr>\n",
              "    <tr>\n",
              "      <th>6</th>\n",
              "      <td>y7elgv</td>\n",
              "      <td>CMHT Experience</td>\n",
              "      <td>I need advice/support</td>\n",
              "      <td>Hello, friends.\\n\\nI am under a Community Ment...</td>\n",
              "      <td>5</td>\n",
              "      <td>7</td>\n",
              "      <td>https://www.reddit.com/r/MentalHealthUK/commen...</td>\n",
              "      <td>2022-10-18 18:20:18</td>\n",
              "    </tr>\n",
              "    <tr>\n",
              "      <th>7</th>\n",
              "      <td>y7k02v</td>\n",
              "      <td>Trying to unpack a traumatic event.</td>\n",
              "      <td>I need advice/support</td>\n",
              "      <td>Hello,\\n\\nFor context, I am 17 but this all ha...</td>\n",
              "      <td>3</td>\n",
              "      <td>3</td>\n",
              "      <td>https://www.reddit.com/r/MentalHealthUK/commen...</td>\n",
              "      <td>2022-10-18 21:49:51</td>\n",
              "    </tr>\n",
              "    <tr>\n",
              "      <th>8</th>\n",
              "      <td>y73ltg</td>\n",
              "      <td>Still burnt out from previous job - bailed on ...</td>\n",
              "      <td>I need advice/support</td>\n",
              "      <td>Hi Everyone,\\n\\nI just wanted to get something...</td>\n",
              "      <td>23</td>\n",
              "      <td>14</td>\n",
              "      <td>https://www.reddit.com/r/MentalHealthUK/commen...</td>\n",
              "      <td>2022-10-18 10:46:51</td>\n",
              "    </tr>\n",
              "    <tr>\n",
              "      <th>9</th>\n",
              "      <td>y7idcf</td>\n",
              "      <td>How common are psychosis symptoms in \"just\" de...</td>\n",
              "      <td>I need advice/support</td>\n",
              "      <td>So I recently gained access to my medical hist...</td>\n",
              "      <td>3</td>\n",
              "      <td>7</td>\n",
              "      <td>https://www.reddit.com/r/MentalHealthUK/commen...</td>\n",
              "      <td>2022-10-18 20:47:03</td>\n",
              "    </tr>\n",
              "  </tbody>\n",
              "</table>\n",
              "</div>\n",
              "      <button class=\"colab-df-convert\" onclick=\"convertToInteractive('df-df3a4a36-bb9f-41b6-9e2e-5b462bb1a3b0')\"\n",
              "              title=\"Convert this dataframe to an interactive table.\"\n",
              "              style=\"display:none;\">\n",
              "        \n",
              "  <svg xmlns=\"http://www.w3.org/2000/svg\" height=\"24px\"viewBox=\"0 0 24 24\"\n",
              "       width=\"24px\">\n",
              "    <path d=\"M0 0h24v24H0V0z\" fill=\"none\"/>\n",
              "    <path d=\"M18.56 5.44l.94 2.06.94-2.06 2.06-.94-2.06-.94-.94-2.06-.94 2.06-2.06.94zm-11 1L8.5 8.5l.94-2.06 2.06-.94-2.06-.94L8.5 2.5l-.94 2.06-2.06.94zm10 10l.94 2.06.94-2.06 2.06-.94-2.06-.94-.94-2.06-.94 2.06-2.06.94z\"/><path d=\"M17.41 7.96l-1.37-1.37c-.4-.4-.92-.59-1.43-.59-.52 0-1.04.2-1.43.59L10.3 9.45l-7.72 7.72c-.78.78-.78 2.05 0 2.83L4 21.41c.39.39.9.59 1.41.59.51 0 1.02-.2 1.41-.59l7.78-7.78 2.81-2.81c.8-.78.8-2.07 0-2.86zM5.41 20L4 18.59l7.72-7.72 1.47 1.35L5.41 20z\"/>\n",
              "  </svg>\n",
              "      </button>\n",
              "      \n",
              "  <style>\n",
              "    .colab-df-container {\n",
              "      display:flex;\n",
              "      flex-wrap:wrap;\n",
              "      gap: 12px;\n",
              "    }\n",
              "\n",
              "    .colab-df-convert {\n",
              "      background-color: #E8F0FE;\n",
              "      border: none;\n",
              "      border-radius: 50%;\n",
              "      cursor: pointer;\n",
              "      display: none;\n",
              "      fill: #1967D2;\n",
              "      height: 32px;\n",
              "      padding: 0 0 0 0;\n",
              "      width: 32px;\n",
              "    }\n",
              "\n",
              "    .colab-df-convert:hover {\n",
              "      background-color: #E2EBFA;\n",
              "      box-shadow: 0px 1px 2px rgba(60, 64, 67, 0.3), 0px 1px 3px 1px rgba(60, 64, 67, 0.15);\n",
              "      fill: #174EA6;\n",
              "    }\n",
              "\n",
              "    [theme=dark] .colab-df-convert {\n",
              "      background-color: #3B4455;\n",
              "      fill: #D2E3FC;\n",
              "    }\n",
              "\n",
              "    [theme=dark] .colab-df-convert:hover {\n",
              "      background-color: #434B5C;\n",
              "      box-shadow: 0px 1px 3px 1px rgba(0, 0, 0, 0.15);\n",
              "      filter: drop-shadow(0px 1px 2px rgba(0, 0, 0, 0.3));\n",
              "      fill: #FFFFFF;\n",
              "    }\n",
              "  </style>\n",
              "\n",
              "      <script>\n",
              "        const buttonEl =\n",
              "          document.querySelector('#df-df3a4a36-bb9f-41b6-9e2e-5b462bb1a3b0 button.colab-df-convert');\n",
              "        buttonEl.style.display =\n",
              "          google.colab.kernel.accessAllowed ? 'block' : 'none';\n",
              "\n",
              "        async function convertToInteractive(key) {\n",
              "          const element = document.querySelector('#df-df3a4a36-bb9f-41b6-9e2e-5b462bb1a3b0');\n",
              "          const dataTable =\n",
              "            await google.colab.kernel.invokeFunction('convertToInteractive',\n",
              "                                                     [key], {});\n",
              "          if (!dataTable) return;\n",
              "\n",
              "          const docLinkHtml = 'Like what you see? Visit the ' +\n",
              "            '<a target=\"_blank\" href=https://colab.research.google.com/notebooks/data_table.ipynb>data table notebook</a>'\n",
              "            + ' to learn more about interactive tables.';\n",
              "          element.innerHTML = '';\n",
              "          dataTable['output_type'] = 'display_data';\n",
              "          await google.colab.output.renderOutput(dataTable, element);\n",
              "          const docLink = document.createElement('div');\n",
              "          docLink.innerHTML = docLinkHtml;\n",
              "          element.appendChild(docLink);\n",
              "        }\n",
              "      </script>\n",
              "    </div>\n",
              "  </div>\n",
              "  "
            ]
          },
          "metadata": {},
          "execution_count": 127
        }
      ]
    },
    {
      "cell_type": "markdown",
      "source": [
        "#### From here on, We can simply plug a subreddit, number of posts needed, add required conditions(flairs,gender,etc) to  get the desired data "
      ],
      "metadata": {
        "id": "BRkUx5_KUdNA"
      }
    },
    {
      "cell_type": "code",
      "source": [],
      "metadata": {
        "id": "x-9B_w4YV9wU"
      },
      "execution_count": null,
      "outputs": []
    }
  ]
}