{
  "nbformat": 4,
  "nbformat_minor": 0,
  "metadata": {
    "colab": {
      "provenance": []
    },
    "kernelspec": {
      "name": "python3",
      "display_name": "Python 3"
    },
    "language_info": {
      "name": "python"
    }
  },
  "cells": [
    {
      "cell_type": "code",
      "execution_count": 44,
      "metadata": {
        "id": "SMO0eLLnS1Xn"
      },
      "outputs": [],
      "source": [
        "import requests \n",
        "import json #json object to be called\n",
        "\n",
        "# Enter your authorization keys. How to get it? dev tools>application>local storage>token\n",
        "headers = {'authorization': '---'}\n",
        "\n",
        "\n",
        "def get_approximate_member_count(server_id):\n",
        "    \"\"\"\n",
        "    This  function returns the number of members in a server\n",
        "    \"\"\"\n",
        "    \n",
        "    r = requests.get('https://discord.com/api/guilds/' + str(server_id) + '/preview', headers=headers)\n",
        "    j = json.loads(r.text)\n",
        "    return j['approximate_member_count']\n",
        "\n",
        "\n",
        "def get_approximate_presence_count(server_id):\n",
        "  \"\"\"\n",
        "  Get number of members online \n",
        "  \"\"\"\n",
        "  r = requests.get('https://discord.com/api/guilds/' + str(server_id) + '/preview', headers=headers)\n",
        "  j = json.loads(r.text)\n",
        "  return j['approximate_presence_count']\n",
        "\n",
        "# get the text content of the last 10 messages postet to a specific channel/direct message\n",
        "def messages(channel_id,limit):\n",
        "\n",
        "  \"\"\"\n",
        "  get messages from a channel\n",
        "\n",
        "  limit=number of messages you want\n",
        "\n",
        "  Note: I am returning json object for testing purposes rn, will remove it in the final version\n",
        "\n",
        "  \"\"\"\n",
        "  r = requests.get('https://discord.com/api/v9/channels/'+channel_id+f'/messages?limit={limit}', headers=headers)\n",
        "  j = json.loads(r.text)\n",
        "  m = [c['content'] for c in j]\n",
        "  return j,m"
      ]
    },
    {
      "cell_type": "code",
      "source": [
        "k,x= messages(\"1033029600198000803\",limit=10)"
      ],
      "metadata": {
        "id": "KS_44-COTEgf"
      },
      "execution_count": 39,
      "outputs": []
    },
    {
      "cell_type": "code",
      "source": [
        "x"
      ],
      "metadata": {
        "colab": {
          "base_uri": "https://localhost:8080/"
        },
        "id": "hhVo4Iz4aO-4",
        "outputId": "abd484a6-49aa-41a7-e03b-7e89059fda6e"
      },
      "execution_count": 43,
      "outputs": [
        {
          "output_type": "execute_result",
          "data": {
            "text/plain": [
              "['sadfd',\n",
              " 'dfdfd',\n",
              " 'dsds',\n",
              " 'asdsdsa',\n",
              " 'sasasa',\n",
              " 'SAASDSAD',\n",
              " 'ASDASD',\n",
              " 'ADAD',\n",
              " 'asdasd\\\\SD\\\\',\n",
              " 'sdasdasd']"
            ]
          },
          "metadata": {},
          "execution_count": 43
        }
      ]
    },
    {
      "cell_type": "code",
      "source": [
        "len(k)"
      ],
      "metadata": {
        "colab": {
          "base_uri": "https://localhost:8080/"
        },
        "id": "RNmCf4qNTsxC",
        "outputId": "c5a5f518-afc2-4004-b7dd-25ba2bf7f431"
      },
      "execution_count": 40,
      "outputs": [
        {
          "output_type": "execute_result",
          "data": {
            "text/plain": [
              "10"
            ]
          },
          "metadata": {},
          "execution_count": 40
        }
      ]
    },
    {
      "cell_type": "code",
      "source": [
        "k"
      ],
      "metadata": {
        "colab": {
          "base_uri": "https://localhost:8080/"
        },
        "id": "hiq1UPVHUIRv",
        "outputId": "9afaa982-e734-45f3-8635-761f5b061325"
      },
      "execution_count": 41,
      "outputs": [
        {
          "output_type": "execute_result",
          "data": {
            "text/plain": [
              "[{'id': '1033478742900748428',\n",
              "  'type': 0,\n",
              "  'content': 'sadfd',\n",
              "  'channel_id': '1033029600198000803',\n",
              "  'author': {'id': '1032731961749426186',\n",
              "   'username': 'Iamtutoring12',\n",
              "   'avatar': None,\n",
              "   'avatar_decoration': None,\n",
              "   'discriminator': '4385',\n",
              "   'public_flags': 0},\n",
              "  'attachments': [],\n",
              "  'embeds': [],\n",
              "  'mentions': [],\n",
              "  'mention_roles': [],\n",
              "  'pinned': False,\n",
              "  'mention_everyone': False,\n",
              "  'tts': False,\n",
              "  'timestamp': '2022-10-22T20:35:33.414000+00:00',\n",
              "  'edited_timestamp': None,\n",
              "  'flags': 0,\n",
              "  'components': []},\n",
              " {'id': '1033478737209069712',\n",
              "  'type': 0,\n",
              "  'content': 'dfdfd',\n",
              "  'channel_id': '1033029600198000803',\n",
              "  'author': {'id': '1032731961749426186',\n",
              "   'username': 'Iamtutoring12',\n",
              "   'avatar': None,\n",
              "   'avatar_decoration': None,\n",
              "   'discriminator': '4385',\n",
              "   'public_flags': 0},\n",
              "  'attachments': [],\n",
              "  'embeds': [],\n",
              "  'mentions': [],\n",
              "  'mention_roles': [],\n",
              "  'pinned': False,\n",
              "  'mention_everyone': False,\n",
              "  'tts': False,\n",
              "  'timestamp': '2022-10-22T20:35:32.057000+00:00',\n",
              "  'edited_timestamp': None,\n",
              "  'flags': 0,\n",
              "  'components': []},\n",
              " {'id': '1033478513572974684',\n",
              "  'type': 0,\n",
              "  'content': 'dsds',\n",
              "  'channel_id': '1033029600198000803',\n",
              "  'author': {'id': '1032731961749426186',\n",
              "   'username': 'Iamtutoring12',\n",
              "   'avatar': None,\n",
              "   'avatar_decoration': None,\n",
              "   'discriminator': '4385',\n",
              "   'public_flags': 0},\n",
              "  'attachments': [],\n",
              "  'embeds': [],\n",
              "  'mentions': [],\n",
              "  'mention_roles': [],\n",
              "  'pinned': False,\n",
              "  'mention_everyone': False,\n",
              "  'tts': False,\n",
              "  'timestamp': '2022-10-22T20:34:38.738000+00:00',\n",
              "  'edited_timestamp': None,\n",
              "  'flags': 0,\n",
              "  'components': []},\n",
              " {'id': '1033478506803376148',\n",
              "  'type': 0,\n",
              "  'content': 'asdsdsa',\n",
              "  'channel_id': '1033029600198000803',\n",
              "  'author': {'id': '1032731961749426186',\n",
              "   'username': 'Iamtutoring12',\n",
              "   'avatar': None,\n",
              "   'avatar_decoration': None,\n",
              "   'discriminator': '4385',\n",
              "   'public_flags': 0},\n",
              "  'attachments': [],\n",
              "  'embeds': [],\n",
              "  'mentions': [],\n",
              "  'mention_roles': [],\n",
              "  'pinned': False,\n",
              "  'mention_everyone': False,\n",
              "  'tts': False,\n",
              "  'timestamp': '2022-10-22T20:34:37.124000+00:00',\n",
              "  'edited_timestamp': None,\n",
              "  'flags': 0,\n",
              "  'components': []},\n",
              " {'id': '1033478500394475571',\n",
              "  'type': 0,\n",
              "  'content': 'sasasa',\n",
              "  'channel_id': '1033029600198000803',\n",
              "  'author': {'id': '1032731961749426186',\n",
              "   'username': 'Iamtutoring12',\n",
              "   'avatar': None,\n",
              "   'avatar_decoration': None,\n",
              "   'discriminator': '4385',\n",
              "   'public_flags': 0},\n",
              "  'attachments': [],\n",
              "  'embeds': [],\n",
              "  'mentions': [],\n",
              "  'mention_roles': [],\n",
              "  'pinned': False,\n",
              "  'mention_everyone': False,\n",
              "  'tts': False,\n",
              "  'timestamp': '2022-10-22T20:34:35.596000+00:00',\n",
              "  'edited_timestamp': None,\n",
              "  'flags': 0,\n",
              "  'components': []},\n",
              " {'id': '1033472001433677894',\n",
              "  'type': 0,\n",
              "  'content': 'SAASDSAD',\n",
              "  'channel_id': '1033029600198000803',\n",
              "  'author': {'id': '1032731961749426186',\n",
              "   'username': 'Iamtutoring12',\n",
              "   'avatar': None,\n",
              "   'avatar_decoration': None,\n",
              "   'discriminator': '4385',\n",
              "   'public_flags': 0},\n",
              "  'attachments': [],\n",
              "  'embeds': [],\n",
              "  'mentions': [],\n",
              "  'mention_roles': [],\n",
              "  'pinned': False,\n",
              "  'mention_everyone': False,\n",
              "  'tts': False,\n",
              "  'timestamp': '2022-10-22T20:08:46.123000+00:00',\n",
              "  'edited_timestamp': None,\n",
              "  'flags': 0,\n",
              "  'components': []},\n",
              " {'id': '1033471997847535708',\n",
              "  'type': 0,\n",
              "  'content': 'ASDASD',\n",
              "  'channel_id': '1033029600198000803',\n",
              "  'author': {'id': '1032731961749426186',\n",
              "   'username': 'Iamtutoring12',\n",
              "   'avatar': None,\n",
              "   'avatar_decoration': None,\n",
              "   'discriminator': '4385',\n",
              "   'public_flags': 0},\n",
              "  'attachments': [],\n",
              "  'embeds': [],\n",
              "  'mentions': [],\n",
              "  'mention_roles': [],\n",
              "  'pinned': False,\n",
              "  'mention_everyone': False,\n",
              "  'tts': False,\n",
              "  'timestamp': '2022-10-22T20:08:45.268000+00:00',\n",
              "  'edited_timestamp': None,\n",
              "  'flags': 0,\n",
              "  'components': []},\n",
              " {'id': '1033471994571784364',\n",
              "  'type': 0,\n",
              "  'content': 'ADAD',\n",
              "  'channel_id': '1033029600198000803',\n",
              "  'author': {'id': '1032731961749426186',\n",
              "   'username': 'Iamtutoring12',\n",
              "   'avatar': None,\n",
              "   'avatar_decoration': None,\n",
              "   'discriminator': '4385',\n",
              "   'public_flags': 0},\n",
              "  'attachments': [],\n",
              "  'embeds': [],\n",
              "  'mentions': [],\n",
              "  'mention_roles': [],\n",
              "  'pinned': False,\n",
              "  'mention_everyone': False,\n",
              "  'tts': False,\n",
              "  'timestamp': '2022-10-22T20:08:44.487000+00:00',\n",
              "  'edited_timestamp': None,\n",
              "  'flags': 0,\n",
              "  'components': []},\n",
              " {'id': '1033471991291842670',\n",
              "  'type': 0,\n",
              "  'content': 'asdasd\\\\SD\\\\',\n",
              "  'channel_id': '1033029600198000803',\n",
              "  'author': {'id': '1032731961749426186',\n",
              "   'username': 'Iamtutoring12',\n",
              "   'avatar': None,\n",
              "   'avatar_decoration': None,\n",
              "   'discriminator': '4385',\n",
              "   'public_flags': 0},\n",
              "  'attachments': [],\n",
              "  'embeds': [],\n",
              "  'mentions': [],\n",
              "  'mention_roles': [],\n",
              "  'pinned': False,\n",
              "  'mention_everyone': False,\n",
              "  'tts': False,\n",
              "  'timestamp': '2022-10-22T20:08:43.705000+00:00',\n",
              "  'edited_timestamp': None,\n",
              "  'flags': 0,\n",
              "  'components': []},\n",
              " {'id': '1033471983792431226',\n",
              "  'type': 0,\n",
              "  'content': 'sdasdasd',\n",
              "  'channel_id': '1033029600198000803',\n",
              "  'author': {'id': '1032731961749426186',\n",
              "   'username': 'Iamtutoring12',\n",
              "   'avatar': None,\n",
              "   'avatar_decoration': None,\n",
              "   'discriminator': '4385',\n",
              "   'public_flags': 0},\n",
              "  'attachments': [],\n",
              "  'embeds': [],\n",
              "  'mentions': [],\n",
              "  'mention_roles': [],\n",
              "  'pinned': False,\n",
              "  'mention_everyone': False,\n",
              "  'tts': False,\n",
              "  'timestamp': '2022-10-22T20:08:41.917000+00:00',\n",
              "  'edited_timestamp': None,\n",
              "  'flags': 0,\n",
              "  'components': []}]"
            ]
          },
          "metadata": {},
          "execution_count": 41
        }
      ]
    },
    {
      "cell_type": "code",
      "source": [
        "x"
      ],
      "metadata": {
        "colab": {
          "base_uri": "https://localhost:8080/"
        },
        "id": "GLAw9RVAWpOx",
        "outputId": "b6ce1c94-1e03-4600-bb53-0d46ce05ae7d"
      },
      "execution_count": 42,
      "outputs": [
        {
          "output_type": "execute_result",
          "data": {
            "text/plain": [
              "['sadfd',\n",
              " 'dfdfd',\n",
              " 'dsds',\n",
              " 'asdsdsa',\n",
              " 'sasasa',\n",
              " 'SAASDSAD',\n",
              " 'ASDASD',\n",
              " 'ADAD',\n",
              " 'asdasd\\\\SD\\\\',\n",
              " 'sdasdasd']"
            ]
          },
          "metadata": {},
          "execution_count": 42
        }
      ]
    },
    {
      "cell_type": "code",
      "source": [],
      "metadata": {
        "id": "GeqA4CzmZtTk"
      },
      "execution_count": null,
      "outputs": []
    }
  ]
}